{
 "cells": [
  {
   "cell_type": "markdown",
   "metadata": {},
   "source": [
    "# Prospecção de Dados (Data Mining) DI/FCUL - HA2\n",
    "\n",
    "## Course Project (MC/DI/FCUL - 2024)\n",
    "\n",
    "### GROUP: `02`\n",
    "\n",
    "* João Martins, 62532 - Hours worked on the project: 16\n",
    "* Rúben Torres, 62531 - Hours worked on the project: 16\n",
    "* Nuno Pereira, 56933 - Hours worked on the project: 16"
   ]
  },
  {
   "cell_type": "markdown",
   "metadata": {},
   "source": [
    "### 1. Import the dataset"
   ]
  },
  {
   "cell_type": "code",
   "execution_count": null,
   "metadata": {},
   "outputs": [],
   "source": [
    "import matplotlib.pyplot as plt\n",
    "import pandas as pd\n",
    "import numpy as np\n",
    "import pickle\n",
    "from sklearn.model_selection import train_test_split\n",
    "from sklearn.ensemble import RandomForestClassifier\n",
    "from sklearn.metrics import (\n",
    "    precision_score,\n",
    "    recall_score,\n",
    "    f1_score,\n",
    "    matthews_corrcoef,\n",
    "    confusion_matrix,\n",
    "    accuracy_score,\n",
    "    classification_report, \n",
    "    explained_variance_score, \n",
    "    mean_squared_error, \n",
    "    max_error, \n",
    "    mean_absolute_error\n",
    ")\n",
    "\n",
    "from sklearn.linear_model import LinearRegression, LogisticRegression\n",
    "from sklearn.naive_bayes import GaussianNB\n",
    "from scipy.stats import pearsonr\n",
    "\n",
    "with open(\"mol_bits.pkl\", \"rb\") as file:\n",
    "    molecular_fingerprints = pickle.load(file)\n",
    "\n",
    "# Convert molecular fingerprints to DataFrame\n",
    "mol_df = pd.DataFrame(\n",
    "    list(molecular_fingerprints.items()), columns=[\"Molecules\", \"Fingerprint\"]\n",
    ")\n",
    "mol_df"
   ]
  },
  {
   "cell_type": "code",
   "execution_count": null,
   "metadata": {},
   "outputs": [],
   "source": [
    "activity = pd.read_csv(\n",
    "    \"activity_train.csv\", header=None, names=[\"Proteins\", \"Molecules\", \"Rate\"]\n",
    ")\n",
    "activity"
   ]
  },
  {
   "cell_type": "code",
   "execution_count": null,
   "metadata": {},
   "outputs": [],
   "source": [
    "activity_test = pd.read_csv(\n",
    "    \"activity_test_blanked.csv\", header=None, names=[\"Proteins\", \"Molecules\", \"Rate\"]\n",
    ")\n",
    "activity_test"
   ]
  },
  {
   "cell_type": "code",
   "execution_count": null,
   "metadata": {},
   "outputs": [],
   "source": [
    "# Count the number of times each protein appears\n",
    "protein_counts = activity['Proteins'].value_counts()\n",
    "\n",
    "# Sort proteins by their counts in descending order\n",
    "sorted_proteins = protein_counts.index.tolist()[:30]\n",
    "counts = protein_counts.values[:30]\n",
    "\n",
    "# Plot the bar chart\n",
    "plt.figure(figsize=(7, 4))\n",
    "plt.bar(range(len(sorted_proteins)), counts, color='skyblue')\n",
    "plt.xlabel('Proteins')\n",
    "plt.ylabel('Number of Molecules')\n",
    "plt.title('Number of Molecules in Each Protein')\n",
    "plt.xticks(range(len(sorted_proteins)), sorted_proteins, rotation=60)\n",
    "plt.tight_layout()\n",
    "plt.show()"
   ]
  },
  {
   "cell_type": "code",
   "execution_count": null,
   "metadata": {},
   "outputs": [],
   "source": [
    "# Count the number of unique proteins each molecule appears in\n",
    "molecule_protein_counts = activity.groupby('Molecules')['Proteins'].nunique()\n",
    "\n",
    "# Sort molecules by the number of unique proteins they appear in, in descending order\n",
    "sorted_molecules = molecule_protein_counts.sort_values(ascending=False).index.tolist()[:50]\n",
    "counts = molecule_protein_counts.sort_values(ascending=False).values[:50]\n",
    "\n",
    "# Plot the bar chart\n",
    "plt.figure(figsize=(10, 5))\n",
    "plt.bar(range(len(sorted_molecules)), counts, color='skyblue')\n",
    "plt.xlabel('Molecules')\n",
    "plt.ylabel('Number of Proteins')\n",
    "plt.title('Number of Proteins Each Molecule Appears In')\n",
    "plt.xticks(range(len(sorted_molecules)), sorted_molecules, rotation=70)\n",
    "plt.tight_layout()\n",
    "plt.show()"
   ]
  },
  {
   "cell_type": "code",
   "execution_count": null,
   "metadata": {},
   "outputs": [],
   "source": [
    "molecule_protein_counts = mol_df.set_index('Molecules')['Fingerprint'].apply(len)\n",
    "\n",
    "# Sort molecules by the number of proteins they appear in, in descending order\n",
    "sorted_molecules = molecule_protein_counts.sort_values(ascending=False).index.tolist()[:50]\n",
    "counts = molecule_protein_counts.sort_values(ascending=False).values[:50]\n",
    "\n",
    "# Plot the bar chart\n",
    "plt.figure(figsize=(10, 6))\n",
    "plt.bar(range(len(sorted_molecules)), counts, color='skyblue')\n",
    "plt.xlabel('Molecules')\n",
    "plt.ylabel('Finger print length')\n",
    "plt.title('Number of Proteins Each Molecule Appears In')\n",
    "plt.xticks(range(len(sorted_molecules)), sorted_molecules, rotation=90)\n",
    "plt.tight_layout()\n",
    "plt.show()"
   ]
  },
  {
   "cell_type": "markdown",
   "metadata": {},
   "source": [
    "* The file activity_train.csv contains a list of interactions between molecules (identified by their ChEMBL IDs and proteins identified by their Uniprot IDs). The activity value is rated from 1 to 10, where 1 is INACTIVE and 10 is EXTREMELY POTENT.\n",
    "\n",
    "* The file activity_test_blanked.csv has exactly the same structure as activity_train.csv, yet, the activiy values are all at Zero. The goal of the project is to predict the real values.\n",
    "\n",
    "* Additionally it is provided the Fingerprints of molecules (mol_bits.pkl). Fingerprinting is a hashed structural representation of molecules, where each set bit represents a structural feature. Molecules that have a common bit set mean that they probably share a structural element. This file is a Zipped pickled file that contain a dictionary with keys corresponding the ChEMBL IDs and values corresponding to a list of the set bits of each molecule."
   ]
  },
  {
   "cell_type": "markdown",
   "metadata": {},
   "source": [
    "### 2. Merge the dataset"
   ]
  },
  {
   "cell_type": "code",
   "execution_count": null,
   "metadata": {},
   "outputs": [],
   "source": [
    "def convert_to_bit_vector(bit_indices, length):\n",
    "    bit_vector = np.zeros(length, dtype=int)\n",
    "    bit_vector[bit_indices] = 1\n",
    "    return bit_vector\n",
    "\n",
    "\n",
    "max_bit_index = max([max(fp) for fp in molecular_fingerprints.values()])\n",
    "\n",
    "bit_vectors = mol_df[\"Fingerprint\"].apply(\n",
    "    lambda x: convert_to_bit_vector(x, max_bit_index + 1)\n",
    ")\n",
    "bit_matrix = np.vstack(bit_vectors)\n",
    "bit_df = pd.DataFrame(bit_matrix, columns=[f\"{i}\" for i in range(max_bit_index + 1)])\n",
    "mol_df = pd.concat([mol_df[[\"Molecules\"]], bit_df], axis=1)\n",
    "\n",
    "\n",
    "activity[\"Molecules\"] = activity[\"Molecules\"].str.strip()\n",
    "mol_df[\"Molecules\"] = mol_df[\"Molecules\"].str.strip()\n",
    "activity_test[\"Molecules\"] = activity_test[\"Molecules\"].str.strip()"
   ]
  },
  {
   "cell_type": "code",
   "execution_count": null,
   "metadata": {},
   "outputs": [],
   "source": [
    "merged_df = pd.merge(activity, mol_df, on=\"Molecules\")\n",
    "merged_df\n",
    "\n",
    "merged_df_test = pd.merge(activity_test, mol_df, on=\"Molecules\")\n",
    "merged_df"
   ]
  },
  {
   "cell_type": "code",
   "execution_count": null,
   "metadata": {},
   "outputs": [],
   "source": [
    "# Prepare features (X) and target variable (y)\n",
    "X = merged_df.drop(columns=[\"Proteins\", \"Molecules\", \"Rate\"])\n",
    "y = merged_df[\"Rate\"]\n",
    "\n",
    "X_test_preds = merged_df_test.drop(columns=[\"Proteins\", \"Molecules\", \"Rate\"])\n",
    "\n",
    "\n",
    "X_train, X_test, y_train, y_test = train_test_split(\n",
    "    X, y, test_size=0.2, random_state=42\n",
    ")\n"
   ]
  },
  {
   "cell_type": "markdown",
   "metadata": {},
   "source": [
    "### 3. PCA"
   ]
  },
  {
   "cell_type": "code",
   "execution_count": null,
   "metadata": {},
   "outputs": [],
   "source": [
    "from sklearn.decomposition import PCA\n",
    "\n",
    "pca = PCA(n_components=1150)\n",
    "pca.fit(X)\n",
    "tve=0\n",
    "for i, ve in enumerate(pca.explained_variance_ratio_):\n",
    "    tve+=ve\n",
    "    print(\"PC%d - Variance explained: %7.4f - Total Variance: %7.4f\" % (i, ve, tve) )\n",
    "print()\n",
    "print(\"Actual Eigenvalues:\", pca.singular_values_)\n",
    "for i,comp in enumerate(pca.components_):\n",
    "    print(\"PC\",i, \"-->\", comp)"
   ]
  },
  {
   "cell_type": "code",
   "execution_count": null,
   "metadata": {},
   "outputs": [],
   "source": [
    "X_train_Sscaled_PCA = pca.transform(X_train)\n",
    "X_test_Sscaled_PCA = pca.transform(X_test)\n",
    "print(X_train_Sscaled_PCA.shape)"
   ]
  },
  {
   "cell_type": "markdown",
   "metadata": {},
   "source": [
    "### 4. ML model"
   ]
  },
  {
   "cell_type": "code",
   "execution_count": null,
   "metadata": {},
   "outputs": [],
   "source": [
    "def printRegStatistics(truth, preds):\n",
    "    print(\"The RVE is: \", explained_variance_score(truth, preds))\n",
    "    print(\"The rmse is: \", mean_squared_error(truth, preds, squared=False))\n",
    "    corr, pval = pearsonr(truth, preds)\n",
    "    print(\"The Correlation Score is is: %6.4f (p-value=%e)\\n\"%(corr,pval))\n",
    "    print(\"The Maximum Error is is: \", max_error(truth, preds))\n",
    "    print(\"The Mean Absolute Error is: \", mean_absolute_error(truth, preds))\n",
    "\n",
    "def printClassResults(model_name, truth, preds):\n",
    "    print(\"The Model is: %s\" % model_name)\n",
    "    print(\"The Accuracy is: %7.4f\" % accuracy_score(truth, preds))\n",
    "    print(\"The Precision is: %7.4f\" % precision_score(truth, preds, average=\"weighted\"))\n",
    "    print(\"The Recall is: %7.4f\" % recall_score(truth, preds, average=\"weighted\"))\n",
    "    print(\"The F1 score is: %7.4f\" % f1_score(truth, preds, average=\"weighted\"))\n",
    "    print(\n",
    "        \"The Matthews correlation coefficient is: %7.4f\"\n",
    "        % matthews_corrcoef(truth, preds)\n",
    "    )\n",
    "    print()\n",
    "    print(\"The Confusion Matrix is:\")\n",
    "    print(pd.DataFrame(confusion_matrix(truth, preds)))\n",
    "    print(\"\\n\")"
   ]
  },
  {
   "cell_type": "code",
   "execution_count": null,
   "metadata": {},
   "outputs": [],
   "source": [
    "reg = LinearRegression().fit(X_train, y_train)\n",
    "\n",
    "y_pred1 = reg.predict(X_test)\n",
    "\n",
    "printRegStatistics(y_test, y_pred1)\n",
    "y_pred1.shape"
   ]
  },
  {
   "cell_type": "code",
   "execution_count": null,
   "metadata": {},
   "outputs": [],
   "source": [
    "log = LogisticRegression().fit(X_train, y_train)\n",
    "\n",
    "y_pred3= log.predict(X_test)\n",
    "\n",
    "accuracy = accuracy_score(y_test, y_pred3)\n",
    "printClassResults(\"LogisticRegression\", y_test, y_pred3)\n"
   ]
  },
  {
   "cell_type": "code",
   "execution_count": null,
   "metadata": {},
   "outputs": [],
   "source": [
    "Nb_classifier = GaussianNB()\n",
    "Nb_classifier.fit(X_train, y_train)"
   ]
  },
  {
   "cell_type": "code",
   "execution_count": null,
   "metadata": {},
   "outputs": [],
   "source": [
    "y_pred2 = Nb_classifier.predict(X_test)\n",
    "\n",
    "accuracy = accuracy_score(y_test, y_pred2)\n",
    "printClassResults(\"GaussianNB\", y_test, y_pred2)\n"
   ]
  },
  {
   "cell_type": "code",
   "execution_count": null,
   "metadata": {},
   "outputs": [],
   "source": [
    "rf_classifier = RandomForestClassifier(max_depth=40, n_jobs=-1)\n",
    "rf_classifier.fit(X, y)"
   ]
  },
  {
   "cell_type": "code",
   "execution_count": null,
   "metadata": {},
   "outputs": [],
   "source": [
    "y_pred = rf_classifier.predict(X_test_preds)\n",
    "\n",
    "# accuracy = accuracy_score(y_test, y_pred)\n",
    "# printClassResults(\"RandomForestClassifier\", y_test, y_pred)\n"
   ]
  },
  {
   "cell_type": "code",
   "execution_count": null,
   "metadata": {},
   "outputs": [],
   "source": [
    "activity_test[\"Rate\"] = y_pred\n",
    "\n",
    "activity_test.to_csv(\"PD_PREDS-02.csv\", index=False)\n",
    "activity_test"
   ]
  }
 ],
 "metadata": {
  "kernelspec": {
   "display_name": ".venv",
   "language": "python",
   "name": "python3"
  },
  "language_info": {
   "codemirror_mode": {
    "name": "ipython",
    "version": 3
   },
   "file_extension": ".py",
   "mimetype": "text/x-python",
   "name": "python",
   "nbconvert_exporter": "python",
   "pygments_lexer": "ipython3",
   "version": "3.12.0"
  }
 },
 "nbformat": 4,
 "nbformat_minor": 2
}
