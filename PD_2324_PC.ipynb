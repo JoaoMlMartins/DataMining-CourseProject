{
 "cells": [
  {
   "cell_type": "markdown",
   "metadata": {},
   "source": [
    "# Prospecção de Dados (Data Mining) DI/FCUL - HA2\n",
    "\n",
    "## Course Project (MC/DI/FCUL - 2024)\n",
    "\n",
    "### GROUP: `02`\n",
    "\n",
    "* João Martins, 62532 - Hours worked on the project: 16\n",
    "* Rúben Torres, 62531 - Hours worked on the project: 16\n",
    "* Nuno Pereira, 56933 - Hours worked on the project: 16"
   ]
  },
  {
   "cell_type": "code",
   "execution_count": null,
   "metadata": {},
   "outputs": [],
   "source": []
  }
 ],
 "metadata": {
  "kernelspec": {
   "display_name": ".venv",
   "language": "python",
   "name": "python3"
  },
  "language_info": {
   "name": "python",
   "version": "3.12.0"
  }
 },
 "nbformat": 4,
 "nbformat_minor": 2
}
